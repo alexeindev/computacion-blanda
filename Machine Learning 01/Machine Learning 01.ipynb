{
 "cells": [
  {
   "cell_type": "code",
   "execution_count": null,
   "metadata": {},
   "outputs": [],
   "source": [
    "#ALEJANDRA LÓPEZ OCAMPO\n",
    "\n",
    "#Introducción a numpy\n",
    "\n",
    "# * Creación de arrays\n",
    "# * Acceso a los arrays\n",
    "# * Manejo de rangos\n",
    "# * Modificación de arrays"
   ]
  },
  {
   "cell_type": "code",
   "execution_count": 1,
   "metadata": {},
   "outputs": [
    {
     "name": "stdout",
     "output_type": "stream",
     "text": [
      "Arreglo a = [0 1 2 3 4 5] \n",
      "\n",
      "Tipo de a = int32 \n",
      "\n",
      "Dimensión de a = 1 \n",
      "\n",
      "Número de elementos de a = (6,)\n"
     ]
    }
   ],
   "source": [
    "# Se importa la librería numpy como np\n",
    "import numpy as np\n",
    "\n",
    "# Se crea un array con 6 elementos\n",
    "a = np.arange(6)\n",
    "\n",
    "# Se imprime en pantalla el contenido del array a\n",
    "print('Arreglo a =', a, '\\n')\n",
    "\n",
    "#Tipo de elementos\n",
    "print('Tipo de a =', a.dtype, '\\n')\n",
    "\n",
    "# Dimensión 1= (vector)\n",
    "print('Dimensión de a =', a.ndim, '\\n')\n",
    "\n",
    "# Se calcula el número de elementos del array con index 0\n",
    "print('Número de elementos de a =', a.shape)"
   ]
  },
  {
   "cell_type": "code",
   "execution_count": 2,
   "metadata": {},
   "outputs": [
    {
     "name": "stdout",
     "output_type": "stream",
     "text": [
      "[[0 1]\n",
      " [0 1]]\n"
     ]
    }
   ],
   "source": [
    "#Para crear una matriz (Arreglo multidimendsional)\n",
    "m = np.array([np.arange(2), np.arange(2)])\n",
    "print(m)"
   ]
  },
  {
   "cell_type": "code",
   "execution_count": 3,
   "metadata": {},
   "outputs": [
    {
     "name": "stdout",
     "output_type": "stream",
     "text": [
      "a =\n",
      " [[1 2]\n",
      " [3 4]] \n",
      "\n",
      "a[0,0] = 1 \n",
      "\n",
      "a[0,1] = 2 \n",
      "\n",
      "a[1,0] = 3 \n",
      "\n",
      "a[1,1] = 4\n"
     ]
    }
   ],
   "source": [
    "#Creando otra matriz con valores preestablecidos \n",
    "a = np.array([[1,2], [3,4]])\n",
    "print('a =\\n', a, '\\n')\n",
    "\n",
    "#Para imprimir todos los elementos individualmente\n",
    "print('a[0,0] =', a[0,0], '\\n')\n",
    "print('a[0,1] =', a[0,1], '\\n')\n",
    "print('a[1,0] =', a[1,0], '\\n')\n",
    "print('a[1,1] =', a[1,1])"
   ]
  },
  {
   "cell_type": "code",
   "execution_count": 9,
   "metadata": {},
   "outputs": [
    {
     "name": "stdout",
     "output_type": "stream",
     "text": [
      "a = [ 0  1  2  3  4  5  6  7  8  9 10 11 12 13 14 15] \n",
      "\n",
      "a[0:16] =  [ 0  1  2  3  4  5  6  7  8  9 10 11 12 13 14 15] \n",
      "\n",
      "a[3,7] = [3 4 5 6]\n"
     ]
    }
   ],
   "source": [
    "# Crea un array con 16 elementos, desde 0 hasta 15\n",
    "a = np.arange(16)\n",
    "print('a =', a, '\\n')\n",
    "# Imprime en un rango de elementos\n",
    "print('a[0:16] = ', a[0:16], '\\n')\n",
    "# Muestra desde 3 hasta 7. Imprime desde 3 hasta 6\n",
    "print('a[3,7] =', a[3:7])"
   ]
  },
  {
   "cell_type": "code",
   "execution_count": 11,
   "metadata": {},
   "outputs": [
    {
     "name": "stdout",
     "output_type": "stream",
     "text": [
      "a[0:16:1] = [ 0  1  2  3  4  5  6  7  8  9 10 11 12 13 14 15] \n",
      "\n",
      "a[:16:1] = [ 0  1  2  3  4  5  6  7  8  9 10 11 12 13 14 15] \n",
      "\n",
      "a[0:16:2] = [ 0  2  4  6  8 10 12 14] \n",
      "\n",
      "a[0:16:3] = [ 0  3  6  9 12 15]\n"
     ]
    }
   ],
   "source": [
    "# Mostrando todos los elementos, desde el 0 hasta el 15, de uno en uno\n",
    "print('a[0:16:1] =', a[0:16:1], '\\n')\n",
    "# El mismo ejemplo, pero omitiendo el número 0 al principio, el cual no es necesario aquí\n",
    "print('a[:16:1] =', a[:16:1], '\\n')\n",
    "# Mostrando los números, de dos en dos\n",
    "print('a[0:16:2] =', a[0:16:2], '\\n')\n",
    "# Mostrando los números, de tres en tres\n",
    "print('a[0:16:3] =', a[0:16:3])"
   ]
  },
  {
   "cell_type": "code",
   "execution_count": 12,
   "metadata": {},
   "outputs": [
    {
     "name": "stdout",
     "output_type": "stream",
     "text": [
      "a[16:0:-1] = [15 14 13 12 11 10  9  8  7  6  5  4  3  2  1] \n",
      "\n",
      "a[::-1] = [15 14 13 12 11 10  9  8  7  6  5  4  3  2  1  0]\n"
     ]
    }
   ],
   "source": [
    "# Si utilizamos un incremento negativo, el array se muestra en orden inverso\n",
    "\n",
    "# El problema es que no muestra el valor 0\n",
    "print('a[16:0:-1] =', a[16:0:-1], '\\n')\n",
    "# Si se omiten los valores de índice, el resultado es preciso\n",
    "print('a[::-1] =', a[::-1])"
   ]
  },
  {
   "cell_type": "code",
   "execution_count": 13,
   "metadata": {},
   "outputs": [
    {
     "name": "stdout",
     "output_type": "stream",
     "text": [
      "b =\n",
      " [[[ 0  1  2  3]\n",
      "  [ 4  5  6  7]\n",
      "  [ 8  9 10 11]]\n",
      "\n",
      " [[12 13 14 15]\n",
      "  [16 17 18 19]\n",
      "  [20 21 22 23]]]\n"
     ]
    }
   ],
   "source": [
    "# Utilización de arreglos multidimensionales\n",
    "\n",
    "b = np.arange(24).reshape(2,3,4)\n",
    "\n",
    "#Reshape genera una matriz (2 bloques, 3 filas, 4 columnas)\n",
    "print('b =\\n', b)"
   ]
  },
  {
   "cell_type": "code",
   "execution_count": 14,
   "metadata": {},
   "outputs": [
    {
     "name": "stdout",
     "output_type": "stream",
     "text": [
      "b[1,2,3] = 23 \n",
      "\n",
      "b[0,2,2] = 10 \n",
      "\n",
      "b[0,1,1] = 5\n"
     ]
    }
   ],
   "source": [
    "#Acceso [bloque, fila, columna]\n",
    "# Elemento en el bloque 1, fila 2, columna 3\n",
    "print('b[1,2,3] =', b[1,2,3], '\\n')\n",
    "# Elemento en el bloque 0, fila 2, columna 2\n",
    "print('b[0,2,2] =', b[0,2,2], '\\n')\n",
    "# Elemento en el bloque 0, fila 1, columna 1\n",
    "print('b[0,1,1] =', b[0,1,1])"
   ]
  },
  {
   "cell_type": "code",
   "execution_count": 17,
   "metadata": {},
   "outputs": [
    {
     "name": "stdout",
     "output_type": "stream",
     "text": [
      "b[0,0,0] = 0 \n",
      "\n",
      "b[1,0,0] = 12 \n",
      "\n",
      "b[:,0,0] = [ 0 12]\n"
     ]
    }
   ],
   "source": [
    "# Mostraremos como generalizar una selección\n",
    "\n",
    "# Primero elegimos el componente en la fila 0, columna 0, del bloque 0\n",
    "print('b[0,0,0] =', b[0,0,0], '\\n')\n",
    "# A continuación, elegimos el componente en la fila 0, columna, pero del bloque 1\n",
    "print('b[1,0,0] =', b[1,0,0], '\\n')\n",
    "# Para elegir SIMULTANEAMENTE ambos elementos, lo hacemos utilizando dos puntos\n",
    "print('b[:,0,0] =', b[:,0,0])"
   ]
  },
  {
   "cell_type": "code",
   "execution_count": 19,
   "metadata": {},
   "outputs": [
    {
     "name": "stdout",
     "output_type": "stream",
     "text": [
      "b[0] =\n",
      " [[ 0  1  2  3]\n",
      " [ 4  5  6  7]\n",
      " [ 8  9 10 11]]\n"
     ]
    }
   ],
   "source": [
    "# Si escribimos: b[0]\n",
    "\n",
    "# Habremos elegido el primer bloque, pero habríamos omitido las filas y las columnas\n",
    "# En tal caso, numpy toma todas las filas y columnas del bloque 0\n",
    "print('b[0] =\\n', b[0])\n"
   ]
  },
  {
   "cell_type": "code",
   "execution_count": 21,
   "metadata": {},
   "outputs": [
    {
     "name": "stdout",
     "output_type": "stream",
     "text": [
      "b[0,:,:] =\n",
      " [[ 0  1  2  3]\n",
      " [ 4  5  6  7]\n",
      " [ 8  9 10 11]]\n"
     ]
    }
   ],
   "source": [
    "# Otra forma de representar b[0] es: b[0, :, :]\n",
    "\n",
    "# Los dos puntos sin ningún valor, indican que se utilizarán todos los términos disponibles\n",
    "# En este caso, todas las filas y todas las columnas\n",
    "print('b[0,:,:] =\\n', b[0,:,:])"
   ]
  },
  {
   "cell_type": "code",
   "execution_count": 23,
   "metadata": {},
   "outputs": [
    {
     "name": "stdout",
     "output_type": "stream",
     "text": [
      "b[0, ...] =\n",
      " [[ 0  1  2  3]\n",
      " [ 4  5  6  7]\n",
      " [ 8  9 10 11]]\n"
     ]
    }
   ],
   "source": [
    "# Cuando se utiliza la notación de : a derecha o a izquierda, se puede reemplazar por ...\n",
    "# El ejemplo anterior se puede escribir así:\n",
    "print('b[0, ...] =\\n', b[0, ...])"
   ]
  },
  {
   "cell_type": "code",
   "execution_count": 24,
   "metadata": {},
   "outputs": [
    {
     "name": "stdout",
     "output_type": "stream",
     "text": [
      "b[0,1] = [4 5 6 7]\n"
     ]
    }
   ],
   "source": [
    "# Si queremos la fila 1 en el bloque 0 (sin que importen las columnas), se tiene:\n",
    "print('b[0,1] =', b[0,1])"
   ]
  },
  {
   "cell_type": "code",
   "execution_count": 25,
   "metadata": {},
   "outputs": [
    {
     "name": "stdout",
     "output_type": "stream",
     "text": [
      "z = [4 5 6 7] \n",
      "\n",
      "z[::2] = [4 6]\n"
     ]
    }
   ],
   "source": [
    "# El resultado de una selección puede utilizar luego para un cálculo posterior\n",
    "\n",
    "# Se obtiene la fila 1 del bloque 0 (como en ejemplo anterior)\n",
    "# y se asigna dicha respuesta a la variable z\n",
    "z = b[0,1]\n",
    "print('z =', z, '\\n')\n",
    "# En este caso, la variable z toma el valor: [4 5 6 7]\n",
    "# Si ahora queremos tomar de dicha respuesta los valores de 2 en 2, se tiene:\n",
    "print('z[::2] =', z[::2])"
   ]
  },
  {
   "cell_type": "code",
   "execution_count": 26,
   "metadata": {},
   "outputs": [
    {
     "name": "stdout",
     "output_type": "stream",
     "text": [
      "[[[ 0  1  2  3]\n",
      "  [ 4  5  6  7]\n",
      "  [ 8  9 10 11]]\n",
      "\n",
      " [[12 13 14 15]\n",
      "  [16 17 18 19]\n",
      "  [20 21 22 23]]] \n",
      "\n",
      "b[:,1] = [[ 4  5  6  7]\n",
      " [16 17 18 19]]\n"
     ]
    }
   ],
   "source": [
    "# Si queremos seleccionar todas las filas 2, independientemente\n",
    "\n",
    "# de los bloques y columnas, se tiene:\n",
    "print(b, '\\n')\n",
    "print('b[:,1] =', b[:,1])\n",
    "# Puesto que no se menciona en la notación las columnas, se toman todos\n",
    "# los valores según corresponda"
   ]
  },
  {
   "cell_type": "code",
   "execution_count": 27,
   "metadata": {},
   "outputs": [
    {
     "name": "stdout",
     "output_type": "stream",
     "text": [
      "[[[ 0  1  2  3]\n",
      "  [ 4  5  6  7]\n",
      "  [ 8  9 10 11]]\n",
      "\n",
      " [[12 13 14 15]\n",
      "  [16 17 18 19]\n",
      "  [20 21 22 23]]] \n",
      "\n",
      "b[0,:,1] = [1 5 9]\n"
     ]
    }
   ],
   "source": [
    "# En el siguiente ejemplo seleccionmos la columna 1 del bloque 0\n",
    "\n",
    "print(b, '\\n')\n",
    "print('b[0,:,1] =', b[0,:,1])"
   ]
  },
  {
   "cell_type": "code",
   "execution_count": 28,
   "metadata": {},
   "outputs": [
    {
     "name": "stdout",
     "output_type": "stream",
     "text": [
      "b[0,:,-1] = [ 3  7 11]\n",
      "b[0, ::-1, -1] = [11  7  3]\n",
      "b[0, ::2, -1] = [ 3 11]\n"
     ]
    }
   ],
   "source": [
    "# Si queremos seleccionar la última columna del primer bloque, tenemos:\n",
    "\n",
    "print('b[0,:,-1] =', b[0,:,-1])\n",
    "# Podemos observar lo siguiente: entre corchetes encontramos tres valores\n",
    "# El primero, el cero, selecciona el primer bloque\n",
    "# El tercero, -1, se encarga de seleccionar la última columna\n",
    "# Los dos puntos, en la segunda posición, SELECCIONAN todos los\n",
    "# componentes de lad FILAS, que FORMARÁN PARTE de dicha COLUMNA\n",
    "# Dado que los dos puntos definen todos los valores de las FILAS en\n",
    "# una columna específica, si quisieramos que DICHOS VALORES estuvieran\n",
    "# en orden inverso, ejecutaríamos la instrucción\n",
    "print('b[0, ::-1, -1] =', b[0, ::-1, -1])\n",
    "# La expresión ::-1 invierte todos los valores que se hubieran seleccionado\n",
    "# Si en lugar de invertir la columna, quisieramos imprimir sus\n",
    "# valores de 2 en 2, tendríamos:\n",
    "print('b[0, ::2, -1] =', b[0, ::2, -1])"
   ]
  },
  {
   "cell_type": "code",
   "execution_count": 29,
   "metadata": {},
   "outputs": [
    {
     "name": "stdout",
     "output_type": "stream",
     "text": [
      "[[[ 0  1  2  3]\n",
      "  [ 4  5  6  7]\n",
      "  [ 8  9 10 11]]\n",
      "\n",
      " [[12 13 14 15]\n",
      "  [16 17 18 19]\n",
      "  [20 21 22 23]]] \n",
      "-----------------------\n",
      "\n",
      "[[[12 13 14 15]\n",
      "  [16 17 18 19]\n",
      "  [20 21 22 23]]\n",
      "\n",
      " [[ 0  1  2  3]\n",
      "  [ 4  5  6  7]\n",
      "  [ 8  9 10 11]]]\n"
     ]
    }
   ],
   "source": [
    "# El array original\n",
    "\n",
    "print(b, '\\n-----------------------\\n')\n",
    "# Esta instrucción invierte los bloques\n",
    "print(b[::-1])"
   ]
  },
  {
   "cell_type": "code",
   "execution_count": 30,
   "metadata": {},
   "outputs": [
    {
     "name": "stdout",
     "output_type": "stream",
     "text": [
      "[[[ 0  1  2  3]\n",
      "  [ 4  5  6  7]\n",
      "  [ 8  9 10 11]]\n",
      "\n",
      " [[12 13 14 15]\n",
      "  [16 17 18 19]\n",
      "  [20 21 22 23]]] \n",
      "-----------------------\n",
      "\n",
      "[[[12 13 14 15]\n",
      "  [16 17 18 19]\n",
      "  [20 21 22 23]]\n",
      "\n",
      " [[ 0  1  2  3]\n",
      "  [ 4  5  6  7]\n",
      "  [ 8  9 10 11]]]\n"
     ]
    }
   ],
   "source": [
    "# El array original\n",
    "\n",
    "print(b, '\\n-----------------------\\n')\n",
    "# Esta instrucción invierte los bloques\n",
    "print(b[::-1])"
   ]
  },
  {
   "cell_type": "code",
   "execution_count": 31,
   "metadata": {},
   "outputs": [
    {
     "name": "stdout",
     "output_type": "stream",
     "text": [
      "[[[ 0  1  2  3]\n",
      "  [ 4  5  6  7]\n",
      "  [ 8  9 10 11]]\n",
      "\n",
      " [[12 13 14 15]\n",
      "  [16 17 18 19]\n",
      "  [20 21 22 23]]] \n",
      "-----------------------\n",
      "\n",
      "[[[12 13 14 15]\n",
      "  [16 17 18 19]\n",
      "  [20 21 22 23]]\n",
      "\n",
      " [[ 0  1  2  3]\n",
      "  [ 4  5  6  7]\n",
      "  [ 8  9 10 11]]]\n"
     ]
    }
   ],
   "source": [
    "# El array original\n",
    "\n",
    "print(b, '\\n-----------------------\\n')\n",
    "# Esta instrucción invierte los bloques\n",
    "print(b[::-1])"
   ]
  },
  {
   "cell_type": "code",
   "execution_count": 32,
   "metadata": {},
   "outputs": [
    {
     "name": "stdout",
     "output_type": "stream",
     "text": [
      "[[[ 0  1  2  3]\n",
      "  [ 4  5  6  7]\n",
      "  [ 8  9 10 11]]\n",
      "\n",
      " [[12 13 14 15]\n",
      "  [16 17 18 19]\n",
      "  [20 21 22 23]]] \n",
      "-----------------------\n",
      "\n",
      "[[[12 13 14 15]\n",
      "  [16 17 18 19]\n",
      "  [20 21 22 23]]\n",
      "\n",
      " [[ 0  1  2  3]\n",
      "  [ 4  5  6  7]\n",
      "  [ 8  9 10 11]]]\n"
     ]
    }
   ],
   "source": [
    "# El array original\n",
    "\n",
    "print(b, '\\n-----------------------\\n')\n",
    "# Esta instrucción invierte los bloques\n",
    "print(b[::-1])"
   ]
  },
  {
   "cell_type": "code",
   "execution_count": 33,
   "metadata": {},
   "outputs": [
    {
     "name": "stdout",
     "output_type": "stream",
     "text": [
      "[[[ 0  1  2  3]\n",
      "  [ 4  5  6  7]\n",
      "  [ 8  9 10 11]]\n",
      "\n",
      " [[12 13 14 15]\n",
      "  [16 17 18 19]\n",
      "  [20 21 22 23]]] \n",
      "-----------------------\n",
      "\n",
      "[[[12 13 14 15]\n",
      "  [16 17 18 19]\n",
      "  [20 21 22 23]]\n",
      "\n",
      " [[ 0  1  2  3]\n",
      "  [ 4  5  6  7]\n",
      "  [ 8  9 10 11]]]\n"
     ]
    }
   ],
   "source": [
    "# El array original\n",
    "\n",
    "print(b, '\\n-----------------------\\n')\n",
    "# Esta instrucción invierte los bloques\n",
    "print(b[::-1])"
   ]
  },
  {
   "cell_type": "code",
   "execution_count": 34,
   "metadata": {},
   "outputs": [
    {
     "name": "stdout",
     "output_type": "stream",
     "text": [
      "[[[ 0  1  2  3]\n",
      "  [ 4  5  6  7]\n",
      "  [ 8  9 10 11]]\n",
      "\n",
      " [[12 13 14 15]\n",
      "  [16 17 18 19]\n",
      "  [20 21 22 23]]] \n",
      "-----------------------\n",
      "\n",
      "[[[12 13 14 15]\n",
      "  [16 17 18 19]\n",
      "  [20 21 22 23]]\n",
      "\n",
      " [[ 0  1  2  3]\n",
      "  [ 4  5  6  7]\n",
      "  [ 8  9 10 11]]]\n"
     ]
    }
   ],
   "source": [
    "# El array original\n",
    "\n",
    "print(b, '\\n-----------------------\\n')\n",
    "# Esta instrucción invierte los bloques\n",
    "print(b[::-1])"
   ]
  },
  {
   "cell_type": "code",
   "execution_count": 36,
   "metadata": {},
   "outputs": [
    {
     "name": "stdout",
     "output_type": "stream",
     "text": [
      "b =\n",
      " [[ 0  1  2  3  4  5  6  7  8  9 10 11]\n",
      " [12 13 14 15 16 17 18 19 20 21 22 23]]\n"
     ]
    }
   ],
   "source": [
    "# Para concluir este primer módulo de numpy, mostraremos que la instrucción\n",
    "\n",
    "# resize, ejecuta una labor similar a reshape\n",
    "# La diferencia está en que resize altera la estructura del array\n",
    "# En cambio reshape crea una copia del original, razón por la cual en\n",
    "# reshape se debe asignar el resultado a una nueva variable\n",
    "# Se cambia la estructura del array b\n",
    "b.resize([2,12])\n",
    "# Al imprimir el array b, se observa que su estructura ha cambiado\n",
    "print('b =\\n', b)"
   ]
  },
  {
   "cell_type": "code",
   "execution_count": null,
   "metadata": {},
   "outputs": [],
   "source": []
  }
 ],
 "metadata": {
  "kernelspec": {
   "display_name": "Python 3",
   "language": "python",
   "name": "python3"
  },
  "language_info": {
   "codemirror_mode": {
    "name": "ipython",
    "version": 3
   },
   "file_extension": ".py",
   "mimetype": "text/x-python",
   "name": "python",
   "nbconvert_exporter": "python",
   "pygments_lexer": "ipython3",
   "version": "3.8.3"
  }
 },
 "nbformat": 4,
 "nbformat_minor": 4
}
